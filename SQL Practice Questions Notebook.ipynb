{
    "metadata": {
        "kernelspec": {
            "name": "SQL",
            "display_name": "SQL",
            "language": "sql"
        },
        "language_info": {
            "name": "sql",
            "version": ""
        }
    },
    "nbformat_minor": 2,
    "nbformat": 4,
    "cells": [
        {
            "cell_type": "markdown",
            "source": [
                "**CREATE A DATABASE**"
            ],
            "metadata": {
                "azdata_cell_guid": "b86cb3f3-1ca5-422b-aa0d-813b3bd22494"
            },
            "attachments": {}
        },
        {
            "cell_type": "code",
            "source": [
                "-- Insert the name of the database you want in the Ocean_Blue_Sentries section \r\n",
                "create database Ocean_Blue_Sentries"
            ],
            "metadata": {
                "azdata_cell_guid": "8f536a44-852e-4690-92a7-e74efbedc342",
                "language": "sql"
            },
            "outputs": [],
            "execution_count": null
        },
        {
            "cell_type": "markdown",
            "source": [
                "**SELECT A DATABASE TO USE**"
            ],
            "metadata": {
                "azdata_cell_guid": "54eff7ca-9f00-4365-8907-c0690eb9c61f"
            },
            "attachments": {}
        },
        {
            "cell_type": "code",
            "source": [
                "-- Replace Ocean_Blue_Sentries with the name of the database you created earlier\r\n",
                "use Ocean_Blue_Sentries"
            ],
            "metadata": {
                "azdata_cell_guid": "860998f3-2478-4e4a-8bda-9da53e83b6a7",
                "language": "sql"
            },
            "outputs": [],
            "execution_count": null
        },
        {
            "cell_type": "markdown",
            "source": [
                "**CREATING THE DATABASE SCHEMA**"
            ],
            "metadata": {
                "azdata_cell_guid": "ad3bd25b-1401-45a7-a846-f2e467a78bc2"
            },
            "attachments": {}
        },
        {
            "cell_type": "code",
            "source": [
                "CREATE TABLE Customers (\r\n",
                "    CustomerID INT PRIMARY KEY,\r\n",
                "    FirstName VARCHAR(50) NOT NULL,\r\n",
                "    LastName VARCHAR(50) NOT NULL,\r\n",
                "    Email VARCHAR(100) NOT NULL,\r\n",
                "    Phone VARCHAR(20) NOT NULL,\r\n",
                "    Address VARCHAR(200) NOT NULL,\r\n",
                "    City VARCHAR(50) NOT NULL,\r\n",
                "    State VARCHAR(50) NOT NULL,\r\n",
                "    ZipCode VARCHAR(10) NOT NULL\r\n",
                ");\r\n",
                "\r\n",
                "INSERT INTO Customers (CustomerID, FirstName, LastName, Email, Phone, Address, City, State, ZipCode)\r\n",
                "VALUES \r\n",
                "(1, 'John', 'Doe', 'johndoe@gmail.com', '555-1234', '123 Main St', 'Anytown', 'CA', '12345'),\r\n",
                "(2, 'Jane', 'Doe', 'janedoe@yahoo.com', '555-5678', '456 Elm St', 'Othertown', 'NY', '67890'),\r\n",
                "(3, 'Bob', 'Smith', 'bobsmith@hotmail.com', '555-9101', '789 Maple Ave', 'Somewhere', 'FL', '23456'),\r\n",
                "(4, 'Alice', 'Jones', 'alicejones@gmail.com', '555-1212', '321 Oak St', 'Anytown', 'CA', '12345'),\r\n",
                "(5, 'David', 'Lee', 'davidlee@yahoo.com', '555-1313', '246 Pine St', 'Othertown', 'NY', '67890'),\r\n",
                "(6, 'Samantha', 'Chen', 'samanthachen@hotmail.com', '555-1414', '135 Cedar Ave', 'Somewhere', 'FL', '23456'),\r\n",
                "(7, 'Tom', 'Nguyen', 'tomnguyen@gmail.com', '555-1515', '642 Forest Rd', 'Anytown', 'CA', '12345'),\r\n",
                "(8, 'Jessica', 'Kim', 'jessicakim@yahoo.com', '555-1616', '753 River St', 'Othertown', 'NY', '67890'),\r\n",
                "(9, 'William', 'Wilson', 'williamwilson@hotmail.com', '555-1717', '864 Lake Ave', 'Somewhere', 'FL', '23456'),\r\n",
                "(10, 'Emily', 'Taylor', 'emilytaylor@gmail.com', '555-1818', '975 Meadow Ln', 'Anytown', 'CA', '12345');\r\n",
                "\r\n",
                "CREATE TABLE Products (\r\n",
                "    ProductID INT PRIMARY KEY,\r\n",
                "    Name VARCHAR(100) NOT NULL,\r\n",
                "    Description VARCHAR(500) NOT NULL,\r\n",
                "    Price DECIMAL(10,2) NOT NULL,\r\n",
                "    Quantity INT NOT NULL\r\n",
                ");\r\n",
                "\r\n",
                "INSERT INTO Products (ProductID, Name, Description, Price, Quantity)\r\n",
                "VALUES\r\n",
                "(1, 'iPhone 12', 'Apple iPhone 12, 64GB, Black', 999.00, 100),\r\n",
                "(2, 'Samsung Galaxy S21', 'Samsung Galaxy S21, 128GB, Phantom Gray', 799.00, 50),\r\n",
                "(3, 'iPad Air', 'Apple iPad Air, 64GB, Space Gray', 599.00, 75),\r\n",
                "(4, 'MacBook Pro', 'Apple MacBook Pro, 13-inch, M1 chip, 256GB SSD', 1299.00, 25),\r\n",
                "(5, 'Dell XPS 13', 'Dell XPS 13, 11th Gen Intel Core i7, 16GB RAM, 512 GB SSD', 1399.00, 20),\r\n",
                "(6, 'Sony PlayStation 5', 'Sony PlayStation 5, Disc Edition', 499.00, 40),\r\n",
                "(7, 'Microsoft Xbox Series X', 'Microsoft Xbox Series X, 1TB SSD', 499.00, 35),\r\n",
                "(8, 'Nintendo Switch', 'Nintendo Switch, Neon Red/Neon Blue Joy-Con', 299.00, 60),\r\n",
                "(9, 'Amazon Echo Dot', 'Amazon Echo Dot (3rd Gen) Smart Speaker with Alexa, Charcoal', 49.99, 200),\r\n",
                "(10, 'Google Nest Mini', 'Google Nest Mini (2nd Gen) Smart Speaker with Google Assistant, Charcoal', 49.99, 150),\r\n",
                "(11, 'Samsung QLED Q90T', 'Samsung QLED Q90T, 65-inch, 4K UHD, Smart TV', 1999.00, 10),\r\n",
                "(12, 'LG OLED CX', 'LG OLED CX, 55-inch, 4K UHD, Smart TV', 1499.00, 15),\r\n",
                "(13, 'Sony WH-1000XM4', 'Sony WH-1000XM4 Wireless Noise Cancelling Overhead Headphones, Black', 349.99, 30),\r\n",
                "(14, 'Bose QuietComfort Earbuds', 'Bose QuietComfort Earbuds, True Wireless Earbuds, Soapstone', 279.00, 50),\r\n",
                "(15, 'Apple AirPods Pro', 'Apple AirPods Pro, Active Noise Cancellation, Wireless Charging Case', 249.00, 100);\r\n",
                "\r\n",
                "CREATE TABLE Sales (\r\n",
                "SaleID INT PRIMARY KEY,\r\n",
                "CustomerID INT NOT NULL,\r\n",
                "OrderDate DATE NOT NULL,\r\n",
                "TotalAmount DECIMAL(10,2) NOT NULL,\r\n",
                "CONSTRAINT FK_Sales_Customers FOREIGN KEY (CustomerID) REFERENCES Customers(CustomerID)\r\n",
                ");\r\n",
                "\r\n",
                "INSERT INTO Sales (SaleID, CustomerID, OrderDate)\r\n",
                "VALUES\r\n",
                "(1, 1, '2022-02-15'),\r\n",
                "(2, 2, '2022-02-16'),\r\n",
                "(3, 3, '2022-02-16'),\r\n",
                "(4, 4, '2022-02-17'),\r\n",
                "(5, 5, '2022-02-18'),\r\n",
                "(6, 6, '2022-02-19'),\r\n",
                "(7, 7, '2022-02-20'),\r\n",
                "(8, 8, '2022-02-20'),\r\n",
                "(9, 9, '2022-02-21'),\r\n",
                "(10, 10, '2022-02-22'),\r\n",
                "(11, 1, '2022-02-23'),\r\n",
                "(12, 2, '2022-02-24'),\r\n",
                "(13, 3, '2022-02-24'),\r\n",
                "(14, 4, '2022-02-25'),\r\n",
                "(15, 5, '2022-02-26');\r\n",
                "\r\n",
                "CREATE TABLE OrderItems (\r\n",
                "OrderItemID INT PRIMARY KEY,\r\n",
                "SaleID INT NOT NULL,\r\n",
                "ProductID INT NOT NULL,\r\n",
                "Quantity INT NOT NULL,\r\n",
                "Price DECIMAL(10,2) NOT NULL,\r\n",
                "CONSTRAINT FK_OrderItems_Sales FOREIGN KEY (SaleID) REFERENCES Sales(SaleID),\r\n",
                "CONSTRAINT FK_OrderItems_Products FOREIGN KEY (ProductID) REFERENCES Products(ProductID)\r\n",
                ");\r\n",
                "\r\n",
                "INSERT INTO OrderItems (OrderItemID, SaleID, ProductID, Quantity, Price)\r\n",
                "VALUES\r\n",
                "(1, 1, 4, 1, 1299.00),\r\n",
                "(2, 2, 2, 1, 799.00),\r\n",
                "(3, 3, 3, 2, 599.00),\r\n",
                "(4, 4, 7, 1, 499.00),\r\n",
                "(5, 5, 1, 1, 999.00),\r\n",
                "(6, 6, 8, 2, 299),\r\n",
                "(7, 7, 10, 1, 49.99),\r\n",
                "(8, 8, 6, 1, 499),\r\n",
                "(9, 9, 9, 2, 49.99),\r\n",
                "(10, 10, 12, 1, 1499),\r\n",
                "(11, 11, 4, 1, 1299),\r\n",
                "(12, 12, 5, 1, 1399),\r\n",
                "(13, 13, 9, 1, 49.99),\r\n",
                "(14, 14, 14, 1, 279.00),\r\n",
                "(15, 15, 3, 1, 599.00);"
            ],
            "metadata": {
                "azdata_cell_guid": "52260271-8547-4534-ac67-10376ce89aac",
                "language": "sql"
            },
            "outputs": [],
            "execution_count": null
        },
        {
            "cell_type": "markdown",
            "source": [
                "**CUSTOMERS TABLE**"
            ],
            "metadata": {
                "language": "sql",
                "azdata_cell_guid": "6c6f7307-6b20-47a8-8437-e6df86c34694"
            },
            "attachments": {}
        },
        {
            "cell_type": "code",
            "source": [
                "select *\r\n",
                "from Customers"
            ],
            "metadata": {
                "language": "sql",
                "azdata_cell_guid": "e4cf1429-feb8-4a37-9abc-9e5c5510d630"
            },
            "outputs": [],
            "execution_count": null
        },
        {
            "cell_type": "markdown",
            "source": [
                "**PRODUCTS TABLE**"
            ],
            "metadata": {
                "language": "sql",
                "azdata_cell_guid": "e7d01a0e-8231-47a4-8bd9-4b3268dab8ec"
            },
            "attachments": {}
        },
        {
            "cell_type": "code",
            "source": [
                "select *\r\n",
                "from products"
            ],
            "metadata": {
                "language": "sql",
                "azdata_cell_guid": "13335dea-adbf-4f14-a5cf-0678d20d0d15"
            },
            "outputs": [],
            "execution_count": null
        },
        {
            "cell_type": "markdown",
            "source": [
                "**SALES TABLE**"
            ],
            "metadata": {
                "language": "sql",
                "azdata_cell_guid": "b204c6d2-3150-42cf-a7f8-561956992596"
            },
            "attachments": {}
        },
        {
            "cell_type": "code",
            "source": [
                "select *\r\n",
                "from sales"
            ],
            "metadata": {
                "language": "sql",
                "azdata_cell_guid": "2f10db60-ab3d-491f-808e-88c1be64f5d4"
            },
            "outputs": [],
            "execution_count": null
        },
        {
            "cell_type": "markdown",
            "source": [
                "**ORDER ITEMS TABLE**"
            ],
            "metadata": {
                "language": "sql",
                "azdata_cell_guid": "60ebcde1-2cfb-436f-8f49-5ad80111ce72"
            },
            "attachments": {}
        },
        {
            "cell_type": "code",
            "source": [
                "select *\r\n",
                "from orderitems"
            ],
            "metadata": {
                "language": "sql",
                "azdata_cell_guid": "719d05c7-66d1-439c-8511-557e1091b5ee"
            },
            "outputs": [],
            "execution_count": null
        },
        {
            "cell_type": "markdown",
            "source": [
                "**1\\. Select all customers who live in a certain state.**"
            ],
            "metadata": {
                "azdata_cell_guid": "dea8698c-904a-41eb-b0c7-b86ae6dc5626"
            },
            "attachments": {}
        },
        {
            "cell_type": "code",
            "source": [
                "select *\r\n",
                "from Customers\r\n",
                "where State = 'CA'"
            ],
            "metadata": {
                "azdata_cell_guid": "2cdeedd0-e834-439f-a508-8a7b12ec0319",
                "language": "sql",
                "tags": []
            },
            "outputs": [],
            "execution_count": null
        },
        {
            "cell_type": "markdown",
            "source": [
                "**2\\. Select all products with a quantity greater than a certain number.**"
            ],
            "metadata": {
                "azdata_cell_guid": "8d68b04e-2658-4811-831c-8ac637f07b47"
            },
            "attachments": {}
        },
        {
            "cell_type": "code",
            "source": [
                "select *\r\n",
                "from Products\r\n",
                "where Quantity > 50"
            ],
            "metadata": {
                "azdata_cell_guid": "529d98a3-7d2d-46ec-8412-62d41045e343",
                "language": "sql"
            },
            "outputs": [],
            "execution_count": null
        },
        {
            "cell_type": "markdown",
            "source": [
                "**3\\. Select the customer with a specific ID.**"
            ],
            "metadata": {
                "azdata_cell_guid": "1582994f-5cd4-4e64-8c9f-c4787c55e547"
            },
            "attachments": {}
        },
        {
            "cell_type": "code",
            "source": [
                "select *\r\n",
                "from Customers\r\n",
                "where customerid = 6"
            ],
            "metadata": {
                "azdata_cell_guid": "a1817806-2715-42ae-b898-640d4bad4b9d",
                "language": "sql"
            },
            "outputs": [],
            "execution_count": null
        },
        {
            "cell_type": "markdown",
            "source": [
                "**4\\. Update the price of a specific product.**"
            ],
            "metadata": {
                "azdata_cell_guid": "6c128936-bf91-4a0a-8632-8c330de46bae"
            },
            "attachments": {}
        },
        {
            "cell_type": "code",
            "source": [
                "-- Updating the table\r\n",
                "update Products\r\n",
                "set price = 700\r\n",
                "where productid = 3\r\n",
                "\r\n",
                "-- What Productid 3 looks like after update\r\n",
                "select *\r\n",
                "from Products\r\n",
                "where productid = 3"
            ],
            "metadata": {
                "azdata_cell_guid": "d90ec471-4499-4b1c-a5cf-8544841f0ee8",
                "language": "sql"
            },
            "outputs": [],
            "execution_count": null
        },
        {
            "cell_type": "markdown",
            "source": [
                "**5a. Delete a customer from the Customers table.**"
            ],
            "metadata": {
                "azdata_cell_guid": "329864bb-5453-41fe-87b3-09812c1ea61d"
            },
            "attachments": {}
        },
        {
            "cell_type": "code",
            "source": [
                "/*\r\n",
                "    -- delete from Customers\r\n",
                "    -- where customerid = 1\r\n",
                "To go about deleting a row from a database, you first have to remove the constraints tied to that row. \r\n",
                "I want to remove customer 1 but customer 1 is referenced in sales because the customer made a purchase. \r\n",
                "Since the customer made a purchase, he appears as a foreign key in the sales tabel. \r\n",
                "It is also worth nothing that sales is referenced in orderitems table as well. \r\n",
                "So lets fix all this in a two stage process\r\n",
                "*/\r\n",
                "\r\n",
                "-- STAGE 1: Create a dummy customer where we tie the sales of Customer 1 to\r\n",
                "insert into Customers(customerid)\r\n",
                "values(11)\r\n",
                "\r\n",
                "-- STAGE 2: Tie all sales of Customer 1 to newly created customer 11\r\n",
                "update Sales\r\n",
                "set customerid = 11\r\n",
                "where customerid = 1\r\n",
                "\r\n",
                "-- STAGE 3: Now delete Customer 1\r\n",
                "delete from Customers\r\n",
                "where customerid = 1"
            ],
            "metadata": {
                "azdata_cell_guid": "d5ef46e7-bbef-4880-9ef5-0fa504956c2a",
                "language": "sql",
                "tags": []
            },
            "outputs": [],
            "execution_count": null
        },
        {
            "cell_type": "markdown",
            "source": [
                "**5b. Restore deleted customer from the Customers table.**"
            ],
            "metadata": {
                "azdata_cell_guid": "d7fa15e2-59cf-4ed9-bcc1-81b6bc85ea5c"
            },
            "attachments": {}
        },
        {
            "cell_type": "code",
            "source": [
                "-- STAGE 1:  Create customer 1 details back into the customers table\r\n",
                "insert into Customers(customerid, firstname, lastname, email, phone, address, city, state, zipcode)\r\n",
                "values(1, 'John', 'Doe', 'johndoe@gmail.com', '555-1234', '123 Main St', 'Anytown',\t'CA', '12345')\r\n",
                "\r\n",
                "-- STAGE 2: Tie all sales of Customer 11 to newly created customer 1\r\n",
                "update Sales\r\n",
                "set customerid = 1\r\n",
                "where customerid = 11\r\n",
                "\r\n",
                "-- STAGE 3: Now delete Customer 11\r\n",
                "delete from Customers\r\n",
                "where customerid = 11"
            ],
            "metadata": {
                "azdata_cell_guid": "35c737c3-9473-4de1-8bd7-70746bedff93",
                "language": "sql"
            },
            "outputs": [],
            "execution_count": null
        },
        {
            "cell_type": "markdown",
            "source": [
                "<span style=\"font-size:11.0pt;line-height:107%;\n",
                "font-family:&quot;Calibri&quot;,sans-serif;mso-ascii-theme-font:minor-latin;mso-fareast-font-family:\n",
                "Calibri;mso-fareast-theme-font:minor-latin;mso-hansi-theme-font:minor-latin;\n",
                "mso-bidi-font-family:&quot;Times New Roman&quot;;mso-bidi-theme-font:minor-bidi;\n",
                "mso-ansi-language:EN-GB;mso-fareast-language:EN-US;mso-bidi-language:AR-SA\"><b>6. Select the total sales for each product.&nbsp; &nbsp;</b></span>"
            ],
            "metadata": {
                "azdata_cell_guid": "0166a3c5-9650-423e-b43b-289ac725129d"
            },
            "attachments": {}
        },
        {
            "cell_type": "code",
            "source": [
                "-- This is found in the OrderItems table where we measure the amount of total sales on each product\r\n",
                "\r\n",
                "select orderitems.productid, products.name, sum(orderitems.quantity * orderitems.price) as total_sales\r\n",
                "from OrderItems\r\n",
                "join Products\r\n",
                "on products.productid = orderitems.productid\r\n",
                "group by orderitems.productid, products.name\r\n",
                "\r\n",
                "/*\r\n",
                "So how did we perform this operation. We start by identifying where the table that discusses total sales for\r\n",
                "each product is. \r\n",
                "NEXT: We identify that we want to group the quantity and multiply price as that will give us an AGGREGATION for total sales.\r\n",
                "      In this stage, we also identify what we want the user to see we are grouping. For us that is PRODUCTS.\r\n",
                "      \r\n",
                "      CODE:\r\n",
                "      select productid, sum(quantity * price) as total_sales\r\n",
                "      from OrderItems\r\n",
                "      groupby productid\r\n",
                "\r\n",
                "NEXT: The earlier code is good enough to solve the problem at hand however, for sake of explanation, \r\n",
                "      the result we want to get the actual name of the product rather than having the productid.\r\n",
                "\r\n",
                "      CODE:\r\n",
                "      select orderitems.productid, products.name, sum(orderitems.quantity * orderitems.price) as total_sales\r\n",
                "      from OrderItems\r\n",
                "      join Products\r\n",
                "      on products.productid = orderitems.productid\r\n",
                "      group by orderitems.productid, products.name\r\n",
                "*/"
            ],
            "metadata": {
                "azdata_cell_guid": "e5ccc783-b609-41e9-ab66-90abedddeccf",
                "language": "sql"
            },
            "outputs": [],
            "execution_count": null
        },
        {
            "cell_type": "markdown",
            "source": [
                "<span style=\"font-size:11.0pt;line-height:107%;\n",
                "font-family:&quot;Calibri&quot;,sans-serif;mso-ascii-theme-font:minor-latin;mso-fareast-font-family:\n",
                "Calibri;mso-fareast-theme-font:minor-latin;mso-hansi-theme-font:minor-latin;\n",
                "mso-bidi-font-family:&quot;Times New Roman&quot;;mso-bidi-theme-font:minor-bidi;\n",
                "mso-ansi-language:EN-GB;mso-fareast-language:EN-US;mso-bidi-language:AR-SA\"><b>7. Select the number of orders for each customer.</b></span>"
            ],
            "metadata": {
                "azdata_cell_guid": "ed03dfdc-89c3-4716-9e7c-c3b3439aa6af"
            },
            "attachments": {}
        },
        {
            "cell_type": "code",
            "source": [
                "-- You should check that the number of Orders signifies the Quantity in orderitems for each sale made by a customer\r\n",
                "-- For this, we are checking quantity in orderitems table and customers in sales table (JOIN)\r\n",
                "\r\n",
                "select Firstname, Lastname, sum(quantity) as total_customer_orders\r\n",
                "from OrderItems\r\n",
                "join Sales\r\n",
                "on Sales.saleid = OrderItems.saleid\r\n",
                "join Customers\r\n",
                "on Customers.customerid = Sales.customerid\r\n",
                "group by Firstname, Lastname"
            ],
            "metadata": {
                "language": "sql",
                "azdata_cell_guid": "0eb37a0c-215e-4c80-8cb5-bf26241fda7b"
            },
            "outputs": [],
            "execution_count": null
        },
        {
            "cell_type": "markdown",
            "source": [
                "<span style=\"font-size:11.0pt;line-height:107%;\n",
                "font-family:&quot;Calibri&quot;,sans-serif;mso-ascii-theme-font:minor-latin;mso-fareast-font-family:\n",
                "Calibri;mso-fareast-theme-font:minor-latin;mso-hansi-theme-font:minor-latin;\n",
                "mso-bidi-font-family:&quot;Times New Roman&quot;;mso-bidi-theme-font:minor-bidi;\n",
                "mso-ansi-language:EN-GB;mso-fareast-language:EN-US;mso-bidi-language:AR-SA\"><b>8. Select the number of items sold for each product.</b></span>"
            ],
            "metadata": {
                "language": "sql",
                "azdata_cell_guid": "15f4516a-80f5-4edb-86da-14a22b6f7666"
            },
            "attachments": {}
        },
        {
            "cell_type": "code",
            "source": [
                "-- This is found in the OrderItems table where we measure the number of items sold on each product\r\n",
                "\r\n",
                "select orderitems.productid, products.name, sum(orderitems.quantity) as total_sales\r\n",
                "from OrderItems\r\n",
                "join Products\r\n",
                "on products.productid = orderitems.productid\r\n",
                "group by orderitems.productid, products.name\r\n",
                "\r\n",
                "/*\r\n",
                "So how did we perform this operation. We start by identifying where the table that discusses total sales for\r\n",
                "each product is. \r\n",
                "NEXT: We identify that we want to group the quantity as that will give us an AGGREGATION for total sales.\r\n",
                "      In this stage, we also identify what we want the user to see we are grouping. For us that is PRODUCTS.\r\n",
                "      \r\n",
                "      CODE:\r\n",
                "      select productid, sum(quantity) as total_sales\r\n",
                "      from OrderItems\r\n",
                "      groupby productid\r\n",
                "\r\n",
                "NEXT: The earlier code is good enough to solve the problem at hand however, for sake of explanation, \r\n",
                "      the result we want to get the actual name of the product rather than having the productid.\r\n",
                "\r\n",
                "      CODE:\r\n",
                "      select orderitems.productid, products.name, sum(orderitems.quantity) as total_sales\r\n",
                "      from OrderItems\r\n",
                "      join Products\r\n",
                "      on products.productid = orderitems.productid\r\n",
                "      group by orderitems.productid, products.name\r\n",
                "*/"
            ],
            "metadata": {
                "language": "sql",
                "azdata_cell_guid": "6b9c7cc3-ed5f-4cfc-bdf1-a0f509ef73eb"
            },
            "outputs": [],
            "execution_count": null
        },
        {
            "cell_type": "markdown",
            "source": [
                "**<span style=\"font-size:11.0pt;line-height:107%;\n",
                "font-family:&quot;Calibri&quot;,sans-serif;mso-ascii-theme-font:minor-latin;mso-fareast-font-family:\n",
                "Calibri;mso-fareast-theme-font:minor-latin;mso-hansi-theme-font:minor-latin;\n",
                "mso-bidi-font-family:&quot;Times New Roman&quot;;mso-bidi-theme-font:minor-bidi;\n",
                "mso-ansi-language:EN-GB;mso-fareast-language:EN-US;mso-bidi-language:AR-SA\">9. Select the top </span> <span lang=\"en-NG\" style=\"font-size:11.0pt;line-height:107%;\n",
                "font-family:&quot;Calibri&quot;,sans-serif;mso-ascii-theme-font:minor-latin;mso-fareast-font-family:\n",
                "Calibri;mso-fareast-theme-font:minor-latin;mso-hansi-theme-font:minor-latin;\n",
                "mso-bidi-font-family:&quot;Times New Roman&quot;;mso-bidi-theme-font:minor-bidi;\n",
                "mso-ansi-language:#0C00;mso-fareast-language:EN-US;mso-bidi-language:AR-SA\">5</span> <span style=\"font-size:11.0pt;line-height:107%;font-family:&quot;Calibri&quot;,sans-serif;\n",
                "mso-ascii-theme-font:minor-latin;mso-fareast-font-family:Calibri;mso-fareast-theme-font:\n",
                "minor-latin;mso-hansi-theme-font:minor-latin;mso-bidi-font-family:&quot;Times New Roman&quot;;\n",
                "mso-bidi-theme-font:minor-bidi;mso-ansi-language:EN-GB;mso-fareast-language:\n",
                "EN-US;mso-bidi-language:AR-SA\">customers by total sales.</span>**"
            ],
            "metadata": {
                "language": "sql",
                "azdata_cell_guid": "2dd7227e-2a4b-4674-9030-270c95e12a68"
            },
            "attachments": {}
        },
        {
            "cell_type": "code",
            "source": [
                "select top 5 customers.firstname, customers.lastname, sum(orderitems.quantity * orderitems.price) as total_sales\r\n",
                "from Orderitems\r\n",
                "join Sales\r\n",
                "on Sales.saleid = OrderItems.saleid\r\n",
                "join Customers\r\n",
                "on Customers.customerid = Sales.customerid\r\n",
                "group by customers.firstname, customers.lastname \r\n",
                "order by total_sales desc"
            ],
            "metadata": {
                "language": "sql",
                "azdata_cell_guid": "de061069-3208-4852-9f87-58b34206db23",
                "tags": []
            },
            "outputs": [],
            "execution_count": null
        },
        {
            "cell_type": "markdown",
            "source": [
                "**10\\. Select the top 5 products by quantity sold.**"
            ],
            "metadata": {
                "language": "sql",
                "azdata_cell_guid": "15814d01-3d36-47eb-9b53-d5593109b0e3"
            },
            "attachments": {}
        },
        {
            "cell_type": "code",
            "source": [
                "select top 5 orderitems.productid, products.name, sum(orderitems.quantity) as total_quantity_sold\r\n",
                "from OrderItems\r\n",
                "join Products\r\n",
                "on products.productid = orderitems.productid\r\n",
                "group by orderitems.productid, products.name \r\n",
                "order by total_quantity_sold desc"
            ],
            "metadata": {
                "language": "sql",
                "azdata_cell_guid": "4f3b0eb0-36ad-400e-aff6-efae3eef7c94"
            },
            "outputs": [],
            "execution_count": null
        },
        {
            "cell_type": "markdown",
            "source": [
                "<span style=\"font-size:11.0pt;line-height:107%;\n",
                "font-family:&quot;Calibri&quot;,sans-serif;mso-ascii-theme-font:minor-latin;mso-fareast-font-family:\n",
                "Calibri;mso-fareast-theme-font:minor-latin;mso-hansi-theme-font:minor-latin;\n",
                "mso-bidi-font-family:&quot;Times New Roman&quot;;mso-bidi-theme-font:minor-bidi;\n",
                "mso-ansi-language:EN-GB;mso-fareast-language:EN-US;mso-bidi-language:AR-SA\"><b>11. Select all orders that were placed between certain dates.</b></span>"
            ],
            "metadata": {
                "language": "sql",
                "azdata_cell_guid": "e0bc8bba-c9a0-4d75-847e-34b2d697665a"
            },
            "attachments": {}
        },
        {
            "cell_type": "code",
            "source": [
                "select *\r\n",
                "from Sales\r\n",
                "where Orderdate > '2022-02-16' and Orderdate <= '2022-2-20'"
            ],
            "metadata": {
                "azdata_cell_guid": "c1241aba-a6d7-4a9b-b1f6-5143e213dbe6",
                "language": "sql"
            },
            "outputs": [],
            "execution_count": null
        },
        {
            "cell_type": "markdown",
            "source": [
                "<span style=\"font-size:11.0pt;line-height:107%;\n",
                "font-family:&quot;Calibri&quot;,sans-serif;mso-ascii-theme-font:minor-latin;mso-fareast-font-family:\n",
                "Calibri;mso-fareast-theme-font:minor-latin;mso-hansi-theme-font:minor-latin;\n",
                "mso-bidi-font-family:&quot;Times New Roman&quot;;mso-bidi-theme-font:minor-bidi;\n",
                "mso-ansi-language:EN-GB;mso-fareast-language:EN-US;mso-bidi-language:AR-SA\"><b>12. Select all orders for a specific customer.</b></span>"
            ],
            "metadata": {
                "azdata_cell_guid": "c387d060-a1bc-4626-bb14-25557923a583"
            },
            "attachments": {}
        },
        {
            "cell_type": "code",
            "source": [
                "select *\r\n",
                "from Sales\r\n",
                "where customerid = 2"
            ],
            "metadata": {
                "azdata_cell_guid": "9fc6d5c9-6c2a-4f92-a906-fd1928b86f4f",
                "language": "sql"
            },
            "outputs": [],
            "execution_count": null
        },
        {
            "cell_type": "markdown",
            "source": [
                "<span style=\"font-size:11.0pt;line-height:107%;\n",
                "font-family:&quot;Calibri&quot;,sans-serif;mso-ascii-theme-font:minor-latin;mso-fareast-font-family:\n",
                "Calibri;mso-fareast-theme-font:minor-latin;mso-hansi-theme-font:minor-latin;\n",
                "mso-bidi-font-family:&quot;Times New Roman&quot;;mso-bidi-theme-font:minor-bidi;\n",
                "mso-ansi-language:EN-GB;mso-fareast-language:EN-US;mso-bidi-language:AR-SA\"><b>13. Select the total sales for a specific customer.</b></span>"
            ],
            "metadata": {
                "azdata_cell_guid": "e66e55b7-1eb0-4120-a4cd-3aed26ec8d6e"
            },
            "attachments": {}
        },
        {
            "cell_type": "code",
            "source": [
                "select firstname, lastname, sum(quantity * price) as total_sales\r\n",
                "from OrderItems\r\n",
                "join sales\r\n",
                "on Orderitems.saleid = Sales.saleid\r\n",
                "join customers\r\n",
                "on customers.customerid = sales.customerid\r\n",
                "where customers.customerid = 2\r\n",
                "group by firstname, lastname"
            ],
            "metadata": {
                "azdata_cell_guid": "8face53d-e672-4be2-833f-8ab5d96a3606",
                "language": "sql"
            },
            "outputs": [],
            "execution_count": null
        },
        {
            "cell_type": "markdown",
            "source": [
                "**14\\. Select the average sales per order.**"
            ],
            "metadata": {
                "azdata_cell_guid": "080fb440-893c-48a6-9026-5d74bd2ff5ae"
            },
            "attachments": {}
        },
        {
            "cell_type": "code",
            "source": [
                "select avg(quantity * price) as average_sales_per_order\r\n",
                "from orderitems"
            ],
            "metadata": {
                "azdata_cell_guid": "4b1b0f0a-f7cc-4698-9284-fa460c9f8f17",
                "language": "sql"
            },
            "outputs": [],
            "execution_count": null
        },
        {
            "cell_type": "markdown",
            "source": [
                "**15\\. Select the customer who has placed the most orders.**"
            ],
            "metadata": {
                "language": "sql",
                "azdata_cell_guid": "3e56aa55-56da-48ac-9c14-b5a609e82fc8"
            },
            "attachments": {}
        },
        {
            "cell_type": "code",
            "source": [
                "select top 1 firstname, lastname, sum(quantity) as total_orders\r\n",
                "from orderitems\r\n",
                "join sales\r\n",
                "on sales.saleid = orderitems.saleid\r\n",
                "join customers\r\n",
                "on customers.customerid = sales.customerid\r\n",
                "group by firstname, lastname\r\n",
                "order by total_orders desc"
            ],
            "metadata": {
                "language": "sql",
                "azdata_cell_guid": "25a384db-bdda-4227-a83a-e4d107d763d4"
            },
            "outputs": [],
            "execution_count": null
        },
        {
            "cell_type": "markdown",
            "source": [
                "**16\\. Select the customer who has spent the most money.**"
            ],
            "metadata": {
                "language": "sql",
                "azdata_cell_guid": "a68e3be6-7db5-41e0-bbdb-2aa9412c2ba9"
            },
            "attachments": {}
        },
        {
            "cell_type": "code",
            "source": [
                "select top 1 firstname, lastname, sum(quantity * price) as total_money_spent\r\n",
                "from orderitems\r\n",
                "join sales\r\n",
                "on sales.saleid = orderitems.saleid\r\n",
                "join customers\r\n",
                "on customers.customerid = sales.customerid\r\n",
                "group by firstname, lastname\r\n",
                "order by total_money_spent desc\r\n",
                "\r\n",
                "-- This belongs to customer 1 who we deleted in CELL 5"
            ],
            "metadata": {
                "language": "sql",
                "azdata_cell_guid": "d3982c7a-01a9-411d-a643-82a60d49d614"
            },
            "outputs": [],
            "execution_count": null
        },
        {
            "cell_type": "markdown",
            "source": [
                "**17\\. Select the product that has the highest price.**"
            ],
            "metadata": {
                "language": "sql",
                "azdata_cell_guid": "c6757b89-7e09-4443-92a3-9cbe783ee749"
            },
            "attachments": {}
        },
        {
            "cell_type": "code",
            "source": [
                "select top 1 *\r\n",
                "from Products\r\n",
                "order by price desc"
            ],
            "metadata": {
                "language": "sql",
                "azdata_cell_guid": "445ff7dd-8cde-4087-b695-b96a191baf5f"
            },
            "outputs": [],
            "execution_count": null
        },
        {
            "cell_type": "markdown",
            "source": [
                "**18\\. Select the product that has the lowest price.**"
            ],
            "metadata": {
                "language": "sql",
                "azdata_cell_guid": "44fcdebf-4db7-40c2-98eb-d767fb0142f8"
            },
            "attachments": {}
        },
        {
            "cell_type": "code",
            "source": [
                "select top 1 *\r\n",
                "from Products\r\n",
                "order by price asc"
            ],
            "metadata": {
                "language": "sql",
                "azdata_cell_guid": "d23ce05c-98f0-446e-bf1b-9d455e4f8020"
            },
            "outputs": [],
            "execution_count": null
        },
        {
            "cell_type": "markdown",
            "source": [
                "**19\\. Select the number of products sold in each category.**"
            ],
            "metadata": {
                "language": "sql",
                "azdata_cell_guid": "41bf9dee-4d5a-41eb-95e4-6f53b87038c9"
            },
            "attachments": {}
        },
        {
            "cell_type": "code",
            "source": [
                "-- NO RESPONSE"
            ],
            "metadata": {
                "language": "sql",
                "azdata_cell_guid": "83d6a0a1-6057-4413-99d1-65b3a783c155"
            },
            "outputs": [],
            "execution_count": null
        },
        {
            "cell_type": "markdown",
            "source": [
                "**20\\. Select the total revenue for each category.**"
            ],
            "metadata": {
                "language": "sql",
                "azdata_cell_guid": "8ce77bb8-69fa-4cc0-a24d-6df2e73f9160"
            },
            "attachments": {}
        },
        {
            "cell_type": "code",
            "source": [
                "-- NO RESPONSE"
            ],
            "metadata": {
                "language": "sql",
                "azdata_cell_guid": "81157af1-7d2e-4e7a-91af-fc1f53f6288b"
            },
            "outputs": [],
            "execution_count": null
        },
        {
            "cell_type": "markdown",
            "source": [
                "**21\\. Select the number of customers who have placed orders.**"
            ],
            "metadata": {
                "language": "sql",
                "azdata_cell_guid": "3a87fab7-0fd3-493c-b137-1d5b99abb7b1"
            },
            "attachments": {}
        },
        {
            "cell_type": "code",
            "source": [
                "select count(distinct(customerid)) as Number_of_customers_that_placed_orders\r\n",
                "from Sales"
            ],
            "metadata": {
                "language": "sql",
                "azdata_cell_guid": "9a7f60ac-2183-4bb8-a5f8-cd0a25c10702"
            },
            "outputs": [],
            "execution_count": null
        },
        {
            "cell_type": "markdown",
            "source": [
                "**22\\. Select the most popular shipping method.**"
            ],
            "metadata": {
                "language": "sql",
                "azdata_cell_guid": "35e709e9-3119-4f94-aa28-881d120e014e"
            },
            "attachments": {}
        },
        {
            "cell_type": "code",
            "source": [
                "-- NO RESPONSE"
            ],
            "metadata": {
                "language": "sql",
                "azdata_cell_guid": "91d473e0-1db8-4f84-9292-8d2cdd70950f"
            },
            "outputs": [],
            "execution_count": null
        },
        {
            "cell_type": "markdown",
            "source": [
                "**23\\. Select the number of orders for each shipping method.**"
            ],
            "metadata": {
                "language": "sql",
                "azdata_cell_guid": "889f3280-9f6f-4699-9f42-885e2b567062"
            },
            "attachments": {}
        },
        {
            "cell_type": "code",
            "source": [
                "-- NO RESPONSE"
            ],
            "metadata": {
                "language": "sql",
                "azdata_cell_guid": "7d2eb2d5-948c-4e28-ba2f-795b6e1e2ea4"
            },
            "outputs": [],
            "execution_count": null
        },
        {
            "cell_type": "markdown",
            "source": [
                "**24\\. Select the average quantity per order.**"
            ],
            "metadata": {
                "language": "sql",
                "azdata_cell_guid": "3ee7cd53-d6c9-4761-a8c3-9df31cb7d70c"
            },
            "attachments": {}
        },
        {
            "cell_type": "code",
            "source": [
                "select avg(quantity) as average_quantity_per_order\r\n",
                "from orderitems"
            ],
            "metadata": {
                "language": "sql",
                "azdata_cell_guid": "b57ba1ab-fc25-4356-b330-76cf6fd6dc52",
                "tags": []
            },
            "outputs": [],
            "execution_count": null
        },
        {
            "cell_type": "markdown",
            "source": [
                "<span style=\"font-size:11.0pt;line-height:107%;\n",
                "font-family:&quot;Calibri&quot;,sans-serif;mso-ascii-theme-font:minor-latin;mso-fareast-font-family:\n",
                "Calibri;mso-fareast-theme-font:minor-latin;mso-hansi-theme-font:minor-latin;\n",
                "mso-bidi-font-family:&quot;Times New Roman&quot;;mso-bidi-theme-font:minor-bidi;\n",
                "mso-ansi-language:EN-GB;mso-fareast-language:EN-US;mso-bidi-language:AR-SA\"><b>25. Select the total revenue for a specific time period (months).</b></span>"
            ],
            "metadata": {
                "language": "sql",
                "azdata_cell_guid": "b2a4a031-733b-46d1-8cfc-63f5fb057b88"
            },
            "attachments": {}
        },
        {
            "cell_type": "code",
            "source": [
                "select sum(orderitems.quantity * price) as total_revenue_from_17th_to_23rd\r\n",
                "from Orderitems\r\n",
                "join sales\r\n",
                "on sales.saleid = orderitems.saleid\r\n",
                "where orderdate >= '2022-02-17' and orderdate <= '2022-02-23'"
            ],
            "metadata": {
                "language": "sql",
                "azdata_cell_guid": "26676cdc-5473-4a5f-9483-53ceac4cf435"
            },
            "outputs": [],
            "execution_count": null
        }
    ]
}